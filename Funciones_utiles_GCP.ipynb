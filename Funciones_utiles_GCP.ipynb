{
 "cells": [
  {
   "cell_type": "code",
   "execution_count": 4,
   "id": "4951be8a-0d62-48cc-86ef-71836873fc50",
   "metadata": {},
   "outputs": [],
   "source": [
    "from google.cloud import storage , bigquery"
   ]
  },
  {
   "cell_type": "code",
   "execution_count": 3,
   "id": "93f0f52e-0ce3-47bc-a67f-1dd40db53b11",
   "metadata": {},
   "outputs": [],
   "source": [
    "project_id = \"\"#Set GCP WS Project ID \n",
    "dataset_id = \"\"#Dataset ID\n",
    "location   = \"\"#Big Query GCP PHYSICAL LOCATION\n",
    "gcs_bucket = \"\"\n",
    "table_id   = \"\""
   ]
  },
  {
   "cell_type": "markdown",
   "id": "3d4856dd-c1c5-4d48-9726-4c825a06aab9",
   "metadata": {},
   "source": [
    "# READ A TABLE IN A DataFrame"
   ]
  },
  {
   "cell_type": "code",
   "execution_count": null,
   "id": "af3a255d-ebf5-43d6-9495-bdccd2c83955",
   "metadata": {},
   "outputs": [],
   "source": [
    "import db_dtypes , gcsfs\n",
    "client = bigquery.Client()\n",
    "job = client.query(\"\"\"SELECT\n",
    "                      FROM\n",
    "                      LIMIT \"\"\")\n"
   ]
  },
  {
   "cell_type": "code",
   "execution_count": null,
   "id": "9bcecd23-5226-42d4-b42c-6613bf16e4b7",
   "metadata": {},
   "outputs": [],
   "source": [
    "df = job.resilt().to_dataframe()\n",
    "df.head(5)"
   ]
  },
  {
   "cell_type": "markdown",
   "id": "5955806a-6332-4414-95fe-a399ce012daf",
   "metadata": {},
   "source": [
    "# Send DF to Bucket"
   ]
  },
  {
   "cell_type": "code",
   "execution_count": null,
   "id": "ad98145a-9b69-4841-8919-fbcf23a73593",
   "metadata": {},
   "outputs": [],
   "source": [
    "gcs_bucket \n",
    "df.to_csv(f\"gs://{gcs_bucket}\", sep =';', index = False)"
   ]
  },
  {
   "cell_type": "markdown",
   "id": "b6707a87-7617-4754-88a3-95082ebda1eb",
   "metadata": {},
   "source": [
    "# Read a file from Bucket"
   ]
  },
  {
   "cell_type": "code",
   "execution_count": null,
   "id": "28a73d0e-8570-4ecf-b8d7-068dfc2eb20b",
   "metadata": {},
   "outputs": [],
   "source": [
    "gcs_bucket \n",
    "df.read_csv(f\"gs://{gcs_bucket}\", sep =';')"
   ]
  },
  {
   "cell_type": "markdown",
   "id": "156f4916-bc38-4877-9c75-a32856fd4808",
   "metadata": {},
   "source": [
    "# Send DF to Bucket"
   ]
  },
  {
   "cell_type": "code",
   "execution_count": null,
   "id": "e12217da-3b83-44f8-a5f2-1182fbfe09b6",
   "metadata": {},
   "outputs": [],
   "source": [
    "project_id = \"\"#Set GCP WS Project ID \n",
    "dataset_id = \"\"#Dataset ID\n",
    "table_id   = project_id + \".\"+ dataset_id + \"\"\n",
    "\n",
    "c = df.iloc[:,[0,1,2,3,4,5]].columns\n",
    "len(c)"
   ]
  },
  {
   "cell_type": "code",
   "execution_count": null,
   "id": "e66bc319-2274-4eac-977e-43870fef821b",
   "metadata": {},
   "outputs": [],
   "source": [
    "#table creation and validation\n",
    "\n",
    "schema = [\n",
    "            bigquery.SchemaField(c[0], \"STRING\", mode=\"REQUIRED\"),\n",
    "            bigquery.SchemaField(c[0], \"STRING\", mode=\"REQUIRED\"),\n",
    "            bigquery.SchemaField(c[0], \"STRING\", mode=\"REQUIRED\"),\n",
    "            bigquery.SchemaField(c[0], \"STRING\", mode=\"REQUIRED\"),\n",
    "            bigquery.SchemaField(c[0], \"STRING\", mode=\"REQUIRED)\n",
    "            ]   \n",
    "\n",
    "table = bigquery.Table(table_id, schema = schema)\n",
    "table = client.create_table(table) #Make an API request\n",
    "print (\"created table {},{},{}\".format(table.project, table.dataset_id, table.table_id))"
   ]
  },
  {
   "cell_type": "code",
   "execution_count": null,
   "id": "afe897b6-9270-424c-8404-19225357c6a5",
   "metadata": {},
   "outputs": [],
   "source": []
  }
 ],
 "metadata": {
  "kernelspec": {
   "display_name": "Python 3 (ipykernel)",
   "language": "python",
   "name": "python3"
  },
  "language_info": {
   "codemirror_mode": {
    "name": "ipython",
    "version": 3
   },
   "file_extension": ".py",
   "mimetype": "text/x-python",
   "name": "python",
   "nbconvert_exporter": "python",
   "pygments_lexer": "ipython3",
   "version": "3.12.4"
  }
 },
 "nbformat": 4,
 "nbformat_minor": 5
}
